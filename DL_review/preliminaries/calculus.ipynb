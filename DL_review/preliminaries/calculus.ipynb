{
 "cells": [
  {
   "cell_type": "code",
   "execution_count": 3,
   "metadata": {},
   "outputs": [
    {
     "name": "stdout",
     "output_type": "stream",
     "text": [
      "h=0.10000, numerical_lim=2.30000\n",
      "h=0.01000, numerical_lim=2.03000\n",
      "h=0.00100, numerical_lim=2.00300\n",
      "h=0.00010, numerical_lim=2.00030\n",
      "h=0.00001, numerical_lim=2.00003\n"
     ]
    }
   ],
   "source": [
    "# 1. Derivatives and Differentiation\n",
    "%matplotlib inline\n",
    "import numpy as np\n",
    "from IPython import display\n",
    "from d2l import torch as d2l\n",
    "\n",
    "def f(x):\n",
    "    return 3 * x ** 2 - 4 * x\n",
    "\n",
    "def numerical_lim(f, x, h):\n",
    "    return (f(x + h)-f(x))/h\n",
    "\n",
    "h = 0.1\n",
    "for i in range(5):\n",
    "    print(f\"h={h:.5f}, numerical_lim={numerical_lim(f, 1, h):.5f}\")\n",
    "    h *= 0.1\n",
    "    # pass\n"
   ]
  },
  {
   "cell_type": "code",
   "execution_count": null,
   "metadata": {},
   "outputs": [],
   "source": [
    "# 2. Partial Derivatives"
   ]
  },
  {
   "cell_type": "code",
   "execution_count": null,
   "metadata": {},
   "outputs": [],
   "source": [
    "# 3. Gradients"
   ]
  },
  {
   "cell_type": "code",
   "execution_count": null,
   "metadata": {},
   "outputs": [],
   "source": [
    "# 4. Chain Rule"
   ]
  },
  {
   "cell_type": "code",
   "execution_count": null,
   "metadata": {},
   "outputs": [],
   "source": [
    "# 5. Summary"
   ]
  },
  {
   "cell_type": "code",
   "execution_count": null,
   "metadata": {},
   "outputs": [],
   "source": [
    "# 6. Exercise"
   ]
  }
 ],
 "metadata": {
  "interpreter": {
   "hash": "c4f1d8c67592da4f0a188b990ed0645a5b5fded33a14b1ed9c0b3a6677a2e8b0"
  },
  "kernelspec": {
   "display_name": "Python 3.7.11 ('pytorch3d')",
   "language": "python",
   "name": "python3"
  },
  "language_info": {
   "codemirror_mode": {
    "name": "ipython",
    "version": 3
   },
   "file_extension": ".py",
   "mimetype": "text/x-python",
   "name": "python",
   "nbconvert_exporter": "python",
   "pygments_lexer": "ipython3",
   "version": "3.7.11"
  },
  "orig_nbformat": 4
 },
 "nbformat": 4,
 "nbformat_minor": 2
}
